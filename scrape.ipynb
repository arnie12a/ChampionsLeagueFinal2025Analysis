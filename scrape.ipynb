{
 "cells": [
  {
   "cell_type": "code",
   "execution_count": 3,
   "metadata": {},
   "outputs": [],
   "source": [
    "import pandas as pd"
   ]
  },
  {
   "cell_type": "code",
   "execution_count": 1,
   "metadata": {},
   "outputs": [
    {
     "name": "stdout",
     "output_type": "stream",
     "text": [
      "hello world\n"
     ]
    }
   ],
   "source": [
    "print('hello world')"
   ]
  },
  {
   "cell_type": "code",
   "execution_count": 5,
   "metadata": {},
   "outputs": [],
   "source": [
    "psg_url = 'https://fbref.com/en/squads/e2d8892c/2024-2025/all_comps/Paris-Saint-Germain-Stats-All-Competitions'\n",
    "intermilan_url = 'https://fbref.com/en/squads/d609edc0/2024-2025/all_comps/Internazionale-Stats-All-Competitions'"
   ]
  },
  {
   "cell_type": "code",
   "execution_count": 16,
   "metadata": {},
   "outputs": [],
   "source": [
    "psg_df = pd.read_html(psg_url)\n",
    "intermilan_df = pd.read_html(intermilan_url)"
   ]
  },
  {
   "cell_type": "code",
   "execution_count": 21,
   "metadata": {},
   "outputs": [],
   "source": [
    "def getStandardData(dfs):\n",
    "    df = dfs[0]\n",
    "    df.columns = pd.MultiIndex.from_tuples(\n",
    "    [('About' if 'Unnamed' in level_0 else level_0, level_1) \n",
    "        for level_0, level_1 in df.columns],\n",
    "            names=df.columns.names\n",
    "    )\n",
    "    df = pd.concat([df['About'], df['Playing Time'], df['Performance'], df['Progression']], axis=1)\n",
    "    columns_to_keep = ['Player', 'Nation', 'Pos', 'Age', 'MP', 'Min', 'Gls', 'Ast', 'G+A', 'G-PK', 'PK', 'PKatt', 'CrdY', 'CrdR', 'PrgC', 'PrgP', 'PrgR']\n",
    "    df = df[columns_to_keep]\n",
    "    return df\n",
    "psg_standard = getStandardData(psg_df)\n",
    "intermilan_standard = getStandardData(intermilan_df)"
   ]
  },
  {
   "cell_type": "code",
   "execution_count": 27,
   "metadata": {},
   "outputs": [],
   "source": [
    "def getFixtures(dfs):\n",
    "    df = psg_df[5]\n",
    "    columns_to_keep = ['Date', 'Comp', 'Round', 'Venue', 'Result', 'GF', 'GA', 'Opponent']\n",
    "    df = df[columns_to_keep]\n",
    "    return df\n",
    "psg_fixtures = getFixtures(psg_df)\n",
    "intermilan_fixtures = getFixtures(intermilan_df)\n"
   ]
  },
  {
   "cell_type": "code",
   "execution_count": 32,
   "metadata": {},
   "outputs": [],
   "source": [
    "def getGoalKeeperStats(dfs):\n",
    "    df = dfs[6]\n",
    "    df.columns = pd.MultiIndex.from_tuples(\n",
    "    [('About' if 'Unnamed' in level_0 else level_0, level_1) \n",
    "        for level_0, level_1 in df.columns],\n",
    "            names=df.columns.names\n",
    "    )\n",
    "    df = pd.concat([df['About'], df['Playing Time'], df['Performance']], axis=1)\n",
    "    columns_to_keep = ['Player', 'GA', 'GA90', 'SoTA', 'Saves', 'Save%', 'W', 'D', 'L', 'CS', 'CS%']\n",
    "    df = df[columns_to_keep]\n",
    "    return df\n",
    "psg_goalkeeper = getGoalKeeperStats(psg_df)\n",
    "intermilan_goalkeeper = getGoalKeeperStats(intermilan_df)"
   ]
  },
  {
   "cell_type": "code",
   "execution_count": 41,
   "metadata": {},
   "outputs": [],
   "source": [
    "def getShootingStats(dfs):\n",
    "    df = dfs[16]\n",
    "    df.columns = pd.MultiIndex.from_tuples(\n",
    "    [('About' if 'Unnamed' in level_0 else level_0, level_1) \n",
    "        for level_0, level_1 in df.columns],\n",
    "            names=df.columns.names\n",
    "    )\n",
    "    df = pd.concat([df['About'], df['Standard']], axis=1)\n",
    "    columns_to_keep = ['Player', 'Pos', 'Gls', 'Sh', 'SoT', 'SoT%', 'Dist', 'FK', 'PK', 'PKatt']\n",
    "    df = df[columns_to_keep]\n",
    "    return df\n",
    "\n",
    "psg_shooting = getShootingStats(psg_df)\n",
    "intermilan_shooting = getShootingStats(intermilan_df)"
   ]
  },
  {
   "cell_type": "code",
   "execution_count": null,
   "metadata": {},
   "outputs": [],
   "source": [
    "def getPassingStats(dfs):\n",
    "    df = dfs[21]\n",
    "    df.columns = pd.MultiIndex.from_tuples(\n",
    "        [('About' if 'Unnamed' in level_0 else level_0, level_1) \n",
    "        for level_0, level_1 in df.columns],\n",
    "        names=df.columns.names\n",
    "    )\n",
    "\n",
    "    # Step 2: Extract the groups you care about\n",
    "    about = df['About']\n",
    "\n",
    "    # Step 3: Flatten 'Short', 'Medium', and 'Long' columns\n",
    "    def flatten_columns(group_df, group_name):\n",
    "        return group_df.rename(columns=lambda col: f\"{group_name}_{col}\")\n",
    "\n",
    "    short = flatten_columns(df['Short'], 'Short')\n",
    "    medium = flatten_columns(df['Medium'], 'Medium')\n",
    "    long = flatten_columns(df['Long'], 'Long')\n",
    "    total = flatten_columns(df['Total'], 'Total')\n",
    "\n",
    "    # Step 4: Combine everything back together\n",
    "    df = pd.concat([about, total, short, medium, long], axis=1)\n",
    "    columns_to_keep = ['Player', 'Pos', 'Total_Cmp', 'Total_Att', 'Total_Cmp%', 'Total_TotDist', 'Total_PrgDist', 'Short_Cmp', 'Short_Att', 'Short_Cmp%', 'Medium_Cmp', 'Medium_Att', 'Medium_Cmp%', 'Long_Cmp', 'Long_Att', 'Long_Cmp%']\n",
    "    return df[columns_to_keep]\n",
    "psg_passing = getPassingStats(psg_df)\n",
    "intermilan_passing = getPassingStats(intermilan_df)"
   ]
  },
  {
   "cell_type": "code",
   "execution_count": 79,
   "metadata": {},
   "outputs": [],
   "source": [
    "def getDefensiveStats(dfs):\n",
    "    df = dfs[36]\n",
    "    df.columns = pd.MultiIndex.from_tuples(\n",
    "        [('About' if 'Unnamed' in level_0 else level_0, level_1) \n",
    "        for level_0, level_1 in df.columns],\n",
    "        names=df.columns.names\n",
    "    )\n",
    "\n",
    "    # Step 2: Extract the groups you care about\n",
    "    about = df['About']\n",
    "    blocks = df['Blocks']\n",
    "\n",
    "    # Step 3: Flatten 'Short', 'Medium', and 'Long' columns\n",
    "    def flatten_columns(group_df, group_name):\n",
    "        return group_df.rename(columns=lambda col: f\"{group_name}_{col}\")\n",
    "\n",
    "    tackles = flatten_columns(df['Tackles'], 'Tackles')\n",
    "    challenges = flatten_columns(df['Challenges'], 'Challenges')\n",
    "    \n",
    "\n",
    "    # Step 4: Combine everything back together\n",
    "    df = pd.concat([about, tackles, challenges, blocks], axis=1)\n",
    "    columns_to_keep = ['Player', 'Pos', 'Tackles_Tkl', 'Tackles_TklW', 'Tackles_Def 3rd', 'Tackles_Mid 3rd', 'Tackles_Att 3rd', 'Challenges_Tkl', 'Challenges_Att', 'Challenges_Tkl%', 'Challenges_Lost', 'Blocks', 'Sh', 'Pass', 'Int', 'Tkl+Int', 'Clr', 'Err']\n",
    "    return df[columns_to_keep]\n",
    "\n",
    "psg_defense = getDefensiveStats(psg_df)\n",
    "intermilan_defense = getDefensiveStats(intermilan_df)"
   ]
  },
  {
   "cell_type": "code",
   "execution_count": 94,
   "metadata": {},
   "outputs": [],
   "source": [
    "import os\n",
    "def saveToCSV(folder, team, file_name, df):\n",
    "    full_path = os.path.join(folder, team, file_name)\n",
    "    df.to_csv(full_path, index=False)\n"
   ]
  },
  {
   "cell_type": "code",
   "execution_count": 96,
   "metadata": {},
   "outputs": [],
   "source": [
    "saveToCSV('data', 'psg', 'standard.csv', psg_standard)\n",
    "saveToCSV('data', 'psg', 'fixtures.csv', psg_fixtures)\n",
    "saveToCSV('data', 'psg', 'shooting.csv', psg_shooting)\n",
    "saveToCSV('data', 'psg', 'goalkeeping.csv', psg_goalkeeper)\n",
    "saveToCSV('data', 'psg', 'defense.csv', psg_defense)\n",
    "saveToCSV('data', 'psg', 'passing.csv', psg_passing)\n",
    "\n"
   ]
  },
  {
   "cell_type": "code",
   "execution_count": 97,
   "metadata": {},
   "outputs": [],
   "source": [
    "saveToCSV('data', 'intermilan', 'standard.csv', intermilan_standard)\n",
    "saveToCSV('data', 'intermilan', 'fixtures.csv', intermilan_fixtures)\n",
    "saveToCSV('data', 'intermilan', 'shooting.csv', intermilan_shooting)\n",
    "saveToCSV('data', 'intermilan', 'goalkeeping.csv', intermilan_goalkeeper)\n",
    "saveToCSV('data', 'intermilan', 'defense.csv', intermilan_defense)\n",
    "saveToCSV('data', 'intermilan', 'passing.csv', intermilan_passing)"
   ]
  },
  {
   "cell_type": "code",
   "execution_count": null,
   "metadata": {},
   "outputs": [],
   "source": []
  }
 ],
 "metadata": {
  "kernelspec": {
   "display_name": "Python 3",
   "language": "python",
   "name": "python3"
  },
  "language_info": {
   "codemirror_mode": {
    "name": "ipython",
    "version": 3
   },
   "file_extension": ".py",
   "mimetype": "text/x-python",
   "name": "python",
   "nbconvert_exporter": "python",
   "pygments_lexer": "ipython3",
   "version": "3.13.2"
  }
 },
 "nbformat": 4,
 "nbformat_minor": 2
}
